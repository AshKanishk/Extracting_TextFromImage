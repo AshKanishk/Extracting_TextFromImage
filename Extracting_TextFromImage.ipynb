{
  "nbformat": 4,
  "nbformat_minor": 0,
  "metadata": {
    "colab": {
      "name": "Extracting_TextFromImage.ipynb",
      "provenance": [],
      "include_colab_link": true
    },
    "kernelspec": {
      "name": "python3",
      "display_name": "Python 3"
    }
  },
  "cells": [
    {
      "cell_type": "markdown",
      "metadata": {
        "id": "view-in-github",
        "colab_type": "text"
      },
      "source": [
        "<a href=\"https://colab.research.google.com/github/AshKanishk/Extracting_TextFromImage/blob/master/Extracting_TextFromImage.ipynb\" target=\"_parent\"><img src=\"https://colab.research.google.com/assets/colab-badge.svg\" alt=\"Open In Colab\"/></a>"
      ]
    },
    {
      "cell_type": "markdown",
      "metadata": {
        "id": "rec9sKT7QAyd",
        "colab_type": "text"
      },
      "source": [
        "#Loading and Importing Important Libraries"
      ]
    },
    {
      "cell_type": "code",
      "metadata": {
        "id": "8PG0WHEs1-45",
        "colab_type": "code",
        "outputId": "4127e713-8b01-486b-f834-5f31e55e2bab",
        "colab": {
          "base_uri": "https://localhost:8080/",
          "height": 204
        }
      },
      "source": [
        "!sudo apt install tesseract-ocr\n",
        "!pip install pytesseract\n",
        "!apt-get -qq install -y libsm6 libxext6 && pip install -q -U opencv-python\n",
        "from __future__ import absolute_import, division, print_function, unicode_literals"
      ],
      "execution_count": 0,
      "outputs": [
        {
          "output_type": "stream",
          "text": [
            "Reading package lists... Done\n",
            "Building dependency tree       \n",
            "Reading state information... Done\n",
            "tesseract-ocr is already the newest version (4.00~git2288-10f4998a-2).\n",
            "The following package was automatically installed and is no longer required:\n",
            "  libnvidia-common-430\n",
            "Use 'sudo apt autoremove' to remove it.\n",
            "0 upgraded, 0 newly installed, 0 to remove and 7 not upgraded.\n",
            "Requirement already satisfied: pytesseract in /usr/local/lib/python3.6/dist-packages (0.3.0)\n",
            "Requirement already satisfied: Pillow in /usr/local/lib/python3.6/dist-packages (from pytesseract) (4.3.0)\n",
            "Requirement already satisfied: olefile in /usr/local/lib/python3.6/dist-packages (from Pillow->pytesseract) (0.46)\n"
          ],
          "name": "stdout"
        }
      ]
    },
    {
      "cell_type": "code",
      "metadata": {
        "id": "-h__o0de2OmP",
        "colab_type": "code",
        "colab": {}
      },
      "source": [
        "import numpy as np\n",
        "import matplotlib.pyplot as plt\n",
        "import os\n",
        "import cv2\n",
        "from __future__ import absolute_import, division, print_function, unicode_literals\n",
        "import tensorflow as tf\n",
        "\n",
        "from google.colab.patches import cv2_imshow  \n",
        "DataDir=\"C:/Users/ashlesha/Downloads/Dataset\""
      ],
      "execution_count": 0,
      "outputs": []
    },
    {
      "cell_type": "markdown",
      "metadata": {
        "id": "4JkqlyZuQMSF",
        "colab_type": "text"
      },
      "source": [
        "#Loading dataset through zip file through files.upload"
      ]
    },
    {
      "cell_type": "code",
      "metadata": {
        "id": "dQndrLrg53lE",
        "colab_type": "code",
        "outputId": "3ec14250-0f8d-48bb-bfd6-f8e19acdf1c8",
        "colab": {
          "resources": {
            "http://localhost:8080/nbextensions/google.colab/files.js": {
              "data": "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",
              "ok": true,
              "headers": [
                [
                  "content-type",
                  "application/javascript"
                ]
              ],
              "status": 200,
              "status_text": ""
            }
          },
          "base_uri": "https://localhost:8080/",
          "height": 91
        }
      },
      "source": [
        "from google.colab import files\n",
        "\n",
        "uploaded = files.upload()\n",
        "\n",
        "##files.upload returns a dictionary of the files which were uploaded. The \n",
        "##dictionary is keyed by the file name, the value is the data which was \n",
        "##uploaded.\n",
        "\n",
        "for fn in uploaded.keys():\n",
        "  print('User uploaded file \"{name}\" with length {length} bytes'.format(name=fn, length=len(uploaded[fn])))"
      ],
      "execution_count": 0,
      "outputs": [
        {
          "output_type": "display_data",
          "data": {
            "text/html": [
              "\n",
              "     <input type=\"file\" id=\"files-aaafe135-7e54-43c2-b61b-08730e47cbd0\" name=\"files[]\" multiple disabled />\n",
              "     <output id=\"result-aaafe135-7e54-43c2-b61b-08730e47cbd0\">\n",
              "      Upload widget is only available when the cell has been executed in the\n",
              "      current browser session. Please rerun this cell to enable.\n",
              "      </output>\n",
              "      <script src=\"/nbextensions/google.colab/files.js\"></script> "
            ],
            "text/plain": [
              "<IPython.core.display.HTML object>"
            ]
          },
          "metadata": {
            "tags": []
          }
        },
        {
          "output_type": "stream",
          "text": [
            "Saving Dataset.zip to Dataset.zip\n",
            "User uploaded file \"Dataset.zip\" with length 17502841 bytes\n"
          ],
          "name": "stdout"
        }
      ]
    },
    {
      "cell_type": "code",
      "metadata": {
        "id": "w8UUdWWyLJNL",
        "colab_type": "code",
        "outputId": "3e4922e7-daa8-496b-aa29-ffd792355b86",
        "colab": {
          "base_uri": "https://localhost:8080/",
          "height": 816
        }
      },
      "source": [
        "!unzip Dataset.zip"
      ],
      "execution_count": 0,
      "outputs": [
        {
          "output_type": "stream",
          "text": [
            "Archive:  Dataset.zip\n",
            "  inflating: txt_mudit_b11_11597.jpg  \n",
            "  inflating: txt_mudit_b11_11599.jpg  \n",
            "  inflating: txt_mudit_b11_12.jpg    \n",
            "  inflating: txt_mudit_b11_1328.jpg  \n",
            "  inflating: txt_mudit_b11_1330.jpg  \n",
            "  inflating: txt_mudit_b11_1332.jpg  \n",
            "  inflating: txt_mudit_b11_1334.jpg  \n",
            "  inflating: txt_mudit_b11_1337.jpg  \n",
            "  inflating: txt_mudit_b11_1339.jpg  \n",
            "  inflating: txt_mudit_b11_1343.jpg  \n",
            "  inflating: txt_mudit_b11_1347.jpg  \n",
            "  inflating: txt_mudit_b11_1354.jpg  \n",
            "  inflating: txt_mudit_b11_1355.jpg  \n",
            "  inflating: txt_mudit_b11_1361.jpg  \n",
            "  inflating: txt_mudit_b11_1362.jpg  \n",
            "  inflating: txt_mudit_b11_1363.jpg  \n",
            "  inflating: txt_mudit_b11_1364.jpg  \n",
            "  inflating: txt_mudit_b11_1365.jpg  \n",
            "  inflating: txt_mudit_b11_1369.jpg  \n",
            "  inflating: txt_mudit_b11_1524.jpg  \n",
            "  inflating: txt_mudit_b11_1529.jpg  \n",
            "  inflating: txt_mudit_b11_1534.jpg  \n",
            "  inflating: txt_mudit_b11_1535.jpg  \n",
            "  inflating: txt_mudit_b11_1536.jpg  \n",
            "  inflating: txt_mudit_b11_1539.jpg  \n",
            "  inflating: txt_mudit_b11_439.jpg   \n",
            "  inflating: txt_mudit_b11_480.jpg   \n",
            "  inflating: txt_mudit_b11_746.jpg   \n",
            "  inflating: txt_mudit_b11_961.jpg   \n",
            "  inflating: txt_mudit_b8_1_513.jpg  \n",
            "  inflating: txt_mudit_b8_1_545.jpg  \n",
            "  inflating: txt_mudit_b8_1_546.jpg  \n",
            "  inflating: txt_mudit_b8_1_554.jpg  \n",
            "  inflating: txt_mudit_b8_1_555.jpg  \n",
            "  inflating: txt_mudit_b8_1_571.jpg  \n",
            "  inflating: txt_mudit_b8_1_573.jpg  \n",
            "  inflating: txt_mudit_b8_1_574.jpg  \n",
            "  inflating: txt_mudit_b8_1_740.jpg  \n",
            "  inflating: txt_mudit_b8_1_741.jpg  \n",
            "  inflating: txt_mudit_b8_1_742.jpg  \n",
            "  inflating: txt_mudit_b8_1_806.jpg  \n",
            "  inflating: txt_mudit_b8_1_807.jpg  \n",
            "  inflating: txt_mudit_b8_1_808.jpg  \n",
            "  inflating: txt_mudit_b8_1_854.jpg  \n",
            "  inflating: txt_mudit_b8_1_855.jpg  \n",
            "  inflating: txt_mudit_b8_2_213.jpg  \n"
          ],
          "name": "stdout"
        }
      ]
    },
    {
      "cell_type": "markdown",
      "metadata": {
        "id": "_Kyroh7lQaDO",
        "colab_type": "text"
      },
      "source": [
        "Importing \"pytesseract\" for extracting text from image"
      ]
    },
    {
      "cell_type": "code",
      "metadata": {
        "id": "ASQfHyRwLgLj",
        "colab_type": "code",
        "colab": {}
      },
      "source": [
        "import IPython.display as display\n",
        "import pytesseract\n",
        "import shutil\n",
        "import random\n",
        "try:\n",
        " from PIL import Image\n",
        "except ImportError:\n",
        " import Image\n",
        "from PIL import Image"
      ],
      "execution_count": 0,
      "outputs": []
    },
    {
      "cell_type": "markdown",
      "metadata": {
        "id": "NFq_iVywQm9E",
        "colab_type": "text"
      },
      "source": [
        "Funtion for pre processing of image before passing it through OCR"
      ]
    },
    {
      "cell_type": "code",
      "metadata": {
        "id": "aRA7J4JxVxTN",
        "colab_type": "code",
        "colab": {}
      },
      "source": [
        "def image_enhance(img) :\n",
        "  correct_skew(img) #correcting skew angle\n",
        "  img = cv2.cvtColor(img, cv2.COLOR_BGR2GRAY) #converting to grayscale\n",
        "  img = cv2.resize(img, None, fx=2, fy=2, interpolation=cv2.INTER_CUBIC)  #scaling image so that small characters can be read\n",
        "  kernel = np.ones((1, 1), np.uint8)\n",
        "  img = cv2.dilate(img, kernel, iterations=1) #for dilation\n",
        "  img = cv2.erode(img, kernel, iterations=1) #for erosion\n",
        "  cv2.adaptiveThreshold(cv2.medianBlur(img, 3), 255, cv2.ADAPTIVE_THRESH_GAUSSIAN_C, cv2.THRESH_BINARY, 31, 2) #for threshold\n",
        "  return img"
      ],
      "execution_count": 0,
      "outputs": []
    },
    {
      "cell_type": "markdown",
      "metadata": {
        "id": "HdpHRDCPRJb2",
        "colab_type": "text"
      },
      "source": [
        "Funtion to convert text from image to string and then evaluating each word to extract useful information"
      ]
    },
    {
      "cell_type": "code",
      "metadata": {
        "id": "0am3rkm_WOB4",
        "colab_type": "code",
        "colab": {}
      },
      "source": [
        "from dateutil.parser import parse\n",
        "def extractText(img) :\n",
        "  result= pytesseract.image_to_string(img,lang=\"eng\")\n",
        "  result = result.split()\n",
        "  i=0\n",
        "  for word in result :\n",
        "    if(str(word).isalnum() and len(word)==17 ):\n",
        "      i=1\n",
        "      print(result)\n",
        "  if(i==0) : print(\"NA\")"
      ],
      "execution_count": 0,
      "outputs": []
    },
    {
      "cell_type": "markdown",
      "metadata": {
        "id": "8GfkJl2NRZOA",
        "colab_type": "text"
      },
      "source": [
        "Function for detecting skew angle and then correcting it"
      ]
    },
    {
      "cell_type": "code",
      "metadata": {
        "id": "NtOix5hUYu5G",
        "colab_type": "code",
        "colab": {}
      },
      "source": [
        "from scipy.ndimage import interpolation as inter\n",
        "\n",
        "def correct_skew(image, delta=1, limit=5):\n",
        "    def determine_score(arr, angle):\n",
        "        data = inter.rotate(arr, angle, reshape=False, order=0)\n",
        "        histogram = np.sum(data, axis=1)\n",
        "        score = np.sum((histogram[1:] - histogram[:-1]) ** 2)\n",
        "        return histogram, score\n",
        "    gray = cv2.cvtColor(image, cv2.COLOR_BGR2GRAY)\n",
        "    thresh = cv2.threshold(gray, 0, 255, cv2.THRESH_BINARY_INV + cv2.THRESH_OTSU)[1] \n",
        "\n",
        "    scores = []\n",
        "    angles = np.arange(-limit, limit + delta, delta)\n",
        "    for angle in angles:\n",
        "        histogram, score = determine_score(thresh, angle)\n",
        "        scores.append(score)\n",
        "\n",
        "    best_angle = angles[scores.index(max(scores))]\n",
        "\n",
        "    (h, w) = image.shape[:2]\n",
        "    center = (w // 2, h // 2)\n",
        "    M = cv2.getRotationMatrix2D(center, best_angle, 1.0)\n",
        "    rotated = cv2.warpAffine(image, M, (w, h), flags=cv2.INTER_CUBIC, \\\n",
        "              borderMode=cv2.BORDER_REPLICATE)\n",
        "\n",
        "    return rotated"
      ],
      "execution_count": 0,
      "outputs": []
    },
    {
      "cell_type": "markdown",
      "metadata": {
        "id": "cNJJi3djRgir",
        "colab_type": "text"
      },
      "source": [
        "Accessing the images from the dataset through a loop"
      ]
    },
    {
      "cell_type": "code",
      "metadata": {
        "id": "S4-r1UHARCaY",
        "colab_type": "code",
        "outputId": "8e49186f-15c9-4c60-c5d3-b02214eaf79c",
        "colab": {
          "base_uri": "https://localhost:8080/",
          "height": 819
        }
      },
      "source": [
        "path = os.path.join(r\"Dataset\")  # create path to Dataset\n",
        "for img in os.listdir(path):  # iterate over each image \n",
        "  image = cv2.imread(img)\n",
        "  image = image_enhance(image)\n",
        "  print(img, end=\" \")\n",
        "  extractText(image)\n",
        "\n",
        "  "
      ],
      "execution_count": 0,
      "outputs": [
        {
          "output_type": "stream",
          "text": [
            "txt_mudit_b11_11597.jpg ['REGN', '.', 'NO', ':', 'DL9CAC6215', 'OSNo', 'o1', 'REG.', 'DT:', '24/12/2012', 'MFG', 'CD', 'MUL', 'CH.NO', ':', 'MA3FHEB1S00358580', 'COLOUR', ':', 'PMAWHITE', 'ENO', ':', 'D13A0338461', 'CLASS', 'LM.', 'NAME', ':', 'SRISHTI', 'NAYAR', 'SIWID', 'OF', ':', 'SANJIV', 'NAYAR', 'ADDRESS:', '80', 'C', 'BLOCK', 'NEELAMBER', 'APTS', 'RANI', 'BAGH', 'NEW', 'DELH!', '110034', 'MODEL', ':', 'SWIFT', 'VDI', 'BS4', 'M', 'Registering', 'Authority', 'BODY', ':', 'SALOON', '5', 'si', 'Palam', 'WHEEL', 'BASE', ':', '0', 'MFG.DT.', ':', '1272012', 'FUEL', ':', 'DIESEL', 'REG.UPTO', ':', '23/12/2027', ':', 'OTT']\n",
            "txt_mudit_b11_1362.jpg ['F', 'REGN', '.', 'NO', ':', 'DL9CAC1454', 'REG.', 'OT:', '18/08/2011', 'MPG', 'CD', 'MUL', 'CH.', 'NO', '-', 'MA3EADE1S00237286', 'COLOUR', ':', 'S.SILVER', 'ENO', '-:', 'K10BN4296995', 'CLASS', ':', 'LM.', 'NAME', ':', 'KUMUDHA', 'ARULDAS', 'SND', 'OF', ':', 'VIUUAY', 'KUMAR', 'ARULDAS', 'f', '.', '|', 'ADDRESS:', 'R-24', 'SOUTH', 'EXTN', 'i', \"'\", 'NEW', 'DELHI', '110049', 'HPILEASE:', 'MODEL', '<', 'ALTO', 'K10LXIBS4', 'Registering', 'Authority', 'BODY', 'SALOON', 'NO.OFCYL', ':', '3', 'Paiam', 'WHEEL', 'BASE', '-', '0', 'UNLADEN', 'WT', ':', '760', ':', 'MFG', 'DT', ':', '05/2041', 'SEATINGC', ':', '5', 'one', 'FUEL', ':', 'PETROL', 'STANDING', 'C', ':', '<=', '‘', 'REG', 'UPTO', '1710812026', 'CU.CAP', ':', '998', 'TAX', 'UPTO', 'OTT', '—', '@', '———————————————', 'ee', 'sseremeennen', 'amie', 'Rporenl', 'Rane', 'ram', 'esas', 'of', 'oe', 'o', '.', '—', '=', 'es', 'TEE', '*', '*ADrQnNA']\n",
            "txt_mudit_b11_1347.jpg ['nT', 'ee', 'UM', ':', 'REGN.', 'NO', ':', 'DL2CAU7997', 'REG.', 'DT', '02/05/2015', 'OSNO', '-01', '—', '~', 'see', 'h', 'aeae', 'MFG', 'CD', ':', 'MSILTD', 'COLOR', ':', 'SERENE', 'BLU', 'CLASS', ':', 'LM.', '>', 'NAME', ':', 'MANJEET', 'SINGH', 'SIWID', 'OF', ':', 'JOGINDER', 'SINGH', 'ADDRESS', ':', 'B-147', 'MANSAROVER', 'GARDEN', 'NEW', 'DELHI', '110015', 'MODEL', ':', 'ERTIGA', 'ZDI', '(M)', 'BODY', ':', 'SALOON', 'NO.OFCYL', ':4', '=', 'WHEEL', 'BASE', ':', '0', 'UNLADEN', 'WT', ':', '1255', 'o—~', 'ee', 'MFG.', 'DT.', ':', '03/2015', 'SEATINGC', ':7', 'I', 'FUEL', ':', 'DIESEL', 'STANDING', 'C', ';', 'REG', 'UPTO', ':', '30/04/2030', 'CU.CAP', ':', '1248', 'Registering', 'Signature', 'TAX', 'UPTO', ':', 'OTT', '.', 'ae']\n",
            "txt_mudit_b8_1_808.jpg ['~', 'eer', 'a', 're', 'wo', '“ame/Brand', 'of', 'Vehicle', \"Maker's\", 'Name', 'Vehicle', 'Class', 'No.of', 'Cylinders', '!-nladen', 'Weight(kg)', 'ype', 'of', 'Body', 'H.P.A./', 'Lease', 'Agg.', \"Dealer's\", 'Name', 'Address', 'Registration', 'Valid', 'U', 'pto', 'Road', 'Tax', 'Paid', 'Upto', 'Date', 'of', 'Issue', 'Specimen', 'Signature', 'of', 'Regd.', 'Owner', 'VERNA', 'L.5CRDI', 'VGT', 'MT', 'HYUNDAI', 'MOTORS', 'INDIA', 'LYD..', 'LMV', '(MOTOR', 'CAR)', '4', 'Cubic', 'Capacity', '1493CC', '099K', 'Colour', 'HW(Cry.White)', 'SALOON', 'Syndicate', 'bank', 'MALWA', 'AUTO', 'SALES', 'C', 'KUNDLI,', 'SONIPAT', 'i', 'i,', '30/12/2024', 'Pr)', 'One', 'Time', 'Bi,', '19/05/2010', 'NG', 'AWTHORITY', 'MVNO', 'OOD', '17', 'ails', 'a', 'atl', 'bear', 'tian?', 'Pe']\n",
            "txt_mudit_b8_1_740.jpg ['REGN', '.', 'NO:', 'DL2CAF6866', 'O', 'SNo', ':', '02', 'REG.', 'DT:', '03/04/2006', 'MFGCD', ':', 'MUL', 'CH.', 'NO', ':', 'MA3ZEEJ91S00127444', 'COLOUR', ':', 'gee', 'SILV', '>', 'L.M.V', 'ENO', '=:', 'G16BBN521579', 'NAME', ';', 'SIWID', 'OF', ':', 'Dp', 'ADDRESS:', 'A-', 'MATHURA', 'JANG!', 'P', 'MKT', 'NIZAMUDDIN', '410000', 'Registenng', 'Authority', '|', 'P', 'Depot', '*', '23.09.2011', '18:51']\n",
            "txt_mudit_b11_1363.jpg ['OSNO', ':01', 'MODEL', 'BODY', 'NO', 'OF', 'CYL', 'MFG', 'DT', 'FUEL', 'REGD', 'UPTO', 'TAX', 'UPTO', 'REGN', 'DT:', '07/05/2016', 'COLOUR', ':', 'ARCTIC', 'WHITE', 'REGN.', 'NO', ':', 'DL8CAN1006\"™', ':', 'MA3EHKD1S00A97129', ':', '1774707', 'CH', 'NO', 'ENO', 'VEH', 'CL:', 'MFR', 'NAME', 'S/WID', 'OF', 'ADDRESS', ':', '»', 'MARUTI', 'SWIFT', 'VXI', 'BSIV', 'RIGID', '(PASSENGER', 'CAR)', 'Motor', 'Car', ':', 'MARUTI', 'SUZUKI', 'INDIA', 'L', 'TD', ':', 'SACHIN', 'KUMAR', ':', 'JAIPARKASH', 'SINGH', 'F', '46', 'NORTH', 'GHONDA', 'GALI', 'NO', '4F', 'BLOCK', 'SUBHASH', 'VIHARNorth', 'EastDL1', '10053', '-', '04', 'WHEEL', 'BASE', ':', '002430', '-', '05/2016', 'UNLADEN', 'WT', ':', '000945', 'PETROL', 'onaTais', '.', '-', '005', 'anaiiie', '21/06/2031', 'stering', 'Author!', 'ott', 'cu', 'CAP', ':', 'oo1197', 'Registering', 'ney', '7']\n",
            "txt_mudit_b11_1354.jpg ['il', 'REGN', '.', 'NO', ':DL2CAS1294', 'REG.', 'DT:', '18/05/2013', 'BEGG', '|', 'MUL', 'CH.NO', ':', 'MASEJKD1S00336606', 'COLOUR', ':', 'SILKY', 'SILVER', 'ENO', '-:', 'K12MN1262597', 'CLASS.', '>', 'LMV', 'NAME', ':', 'MR.', 'ANIK', 'NARULA', 'SIAWID', 'OF', ':', 'SH.', 'RAJAN', 'NARULA', 'ADDRESS:', 'B-169,', 'BLOCK-B', 'NEW', 'MOTI', 'NAGAR', 'NEW', 'DELHI', ':', 'SWIFT', 'DZIRE', 'VXI', 'BS4', 'M', '.', 'SALOON', 'NO.OF', 'CYL:', '4', ':', '0', '05/2013', ':', 'PETROL', 'STANDING', '=', 'Se']\n",
            "txt_mudit_b8_1_513.jpg ['a', 'REGN', '.', 'NO', ':', 'DL2CAM0993', '.', 'No', '*', 'O1', 'REG.', 'DT:', '13702010', 'MFGCD', ':', 'HYU', 'CH.', 'NO', '-', 'MALBB5S1BLAM21', '7697', 'COLOUR', ':', '(CR.', 'WHITE', 'ENO', '=:', 'G4LAAM4S808S8', 'CLASS', ':', 'L.MV.', 'NAME', '-', 'MR.', 'KAMAL', 'BHOLA', 'SAWID', 'OF', ':', 'SIO', 'SH.', 'J.C.', 'BHOLA', 'ADDRESS:', '658,', 'AB', 'BLOCK,', 'lIND', 'FLOOR,', 'ESH', 'NAGAR,', 'DELHI', '410015', 'HPYLEASE:', '‘ce', '!', 'MODEL', '=<:', 'i20', 'Sport', 'Registering', 'Authority', 'BODY', '-', 'SALOON', 'NO.OF', 'CYL', ':', '4', '|', 'P', 'Depot', 'WHEEL', 'BASE:', '0', 'UNLADEN', 'WT', ':', '1066', '.', 'MFG.DT.', '-', 'O8r20710', 'SEATINGC', '<9', 'yet,', 'FUEL', '-', 'PETROL', 'STANDING', 'C', ':', 'gga', 'j', 'REG.UPTO', '=.', '42H', '0f2025', 'CU.CAP', '-', '4200', 'eee:', 'TAX', 'UPTO', '=:', 'OTT', 'Signal', 'a', '201', 'we', '2', 'ss']\n",
            "txt_mudit_b8_1_742.jpg ['SS', 'eS', '=.', 'REGN', '.', 'NO:', 'DL3CAD3216', ':', 'O', 'SNo', ':', '01', 'SG.', 'DT:', '31/01/2005', 'MFG', 'CD', ':', 'MU', '|', ':', 'MUL', '.NO', ':', 'MA3EBE41S00', '430299', 'COLOUR', ':', 'P.', 'SILVER', 'L', ':', 'G13BBN', '190141', 'CLASS', ':', 'L.M.Y.', ';', 'NAME', '=:', 'MAHABIR', 'SINGH', '5PM', 'fe', 'S/WID', 'OF', ':', 'CHANDER', 'BHAN', 'ADDRESS:', 'B-40', 'IIND', 'FLOOR', 'SANJAY', 'NGR', '4,', 'MANGOL', 'PUR', 'KALAN', '§', 'NEW', 'DELHI', '110085', 'ICICI', 'BANK', 'LTD.', 'Registering', 'Authority', 'a', 'NO.', 'OF', 'CYL:', '4', 'Sheikh', 'Sarai', 'UNLADEN', 'WT', ':', '875', 'SEATING', 'C', '5', 'ke)', 'PETROL', '=', 'STAND', '|', '30/01/2020', 'CU.CAP', ':', 'Signature', ';', 'OT', 'S', '&', '2', 'Oke', 'A8)', '1)', 'ae', 'an', '8X8,']\n",
            "txt_mudit_b11_1337.jpg ['2', 'GCOVERIGAENT', 'OF', 'HARYANA', '(DQ)', 'CERTIFICATE', 'OF', 'REGISTRATION', 'OF', 'MOTOR', 'form', 'Mo.', '23', 'RULE', '46', 'tee?', 'VEHICLE', 'Megistation', 'NG.', '114K', '66356', 'OWES', 'Natie', 'PAM', 'AM', 'KAS', 'S/O/W', 'Of', '—', 'JAi', 'PARKASH', 'Full', 'ABMESS', '55', '4', '9399/45,', 'GANOMI', 'NAGAR', 'GANAUR', 'SOMPAT.', 'dass', 'Of', 'Vehicle', '4AM.', '(CARS', 'une', 'Sena', '1', '|', 'yp', 'Of', 'Body', 'WOT', 'OMBALK.', 'Month', 'and', 'Year', 'of', 'tty.', '112644', 'Lealet', 'Narne', 'at', 'Admess', 'HARISOWS', 'AL/TOMOBILES,', ',', 'Moke', '—', 'hABASTI', 'SUZIIKA', 'WADIA', 'LTD.', 'Color', 'f', 'Body', 'PA', 'Were', 'Moke!', 'assihialion', 'WARUT', 'SWKET', 'BZUE', '201', 'Horse', 'PowsBHP)', '$69', 'Chassis', 'He', 'WAS', 'HEB', 'SO0S7', '2865', 'No.of', 'Cylinders', '4', 'engine', '—', 'W13a\"220608T', 'Fuel', '6d', 'BNESEA,', 'GV', 'Weight', '1666', 'kgs', 'Valid', 'FIGHT', 'hug', '2014', 'Valid', 'pte', '06', '-hasgy', 'D028', '03.01.2017']\n",
            "txt_mudit_b8_1_545.jpg ['7', '‘', '2s', 'i', '—', 'ie', 'Se,', 'eae.', 'cs', '=', 'i', '7', 'e', '-', 'ea', 'ee', 'at', 'P', 'utinalll', 'om', 'ett', '+20', 'EO', 'TR', 'ERS:', 'ea', 'ee', 'GOVERNMENT', 'OF', 'HARYANA', '-', '‘CERTIFICATE', 'OF', 'REGISTRATION', '.', 'my', 'ed', ':', '(FORM', 'NO.', '23', 'RULE', '48)', 'eestration', 'No.', 'HR42-A-4854', 'wails', '&Address', 'ASHWAN', 'of', 'Regd?', 'Owner', 'S/o', 'RAM', 'BHAJ', 'BHIGAN,TEH.GNR', 'SONIPAT', 'Previous', 'Regn.', 'No.', 'N/A', 'Previous', 'Owner', 'N/A', 'Chasis', 'No.', 'MA3EED81S00628175', 'Engine', 'No.', 'F10DN4452456', 'Month/', 'Year', 'of', 'Manufacture', '23/01/2008', 'Seating', 'Capacity', '5', '(including', 'driver)', 'Fuel', 'Used', 'Petrol', '14.', '08.', '201', '115:', 'A', 'ae', 'is', 'Soi']\n",
            "txt_mudit_b11_1361.jpg ['REGN', '.', 'NO:', 'DL13CA8614', 'O', 'SNo', ':', '01', 'REG.', 'DT:', '14/02/2014', 'MFGCD', ':', 'MUL', 'CH.', 'NO', ':', 'MA3FHEB1S00593004', 'COLOUR', ':', 'AWHITE', 'ENO', ':', 'D13A-', '2307158', 'CLASS', ':', 'L.M.LV.', 'NAME', ':', 'RAKESH', 'KUMAR', 'SIWID', 'OF', ':', 'SHRI', 'SOM', 'NATH', 'ADDRESS:', 'H', 'NO', '-60', 'IIIRD', 'FLOOR', 'STREET', 'NO', '-2/3', 'ARJUN', 'NAGAR', 'DELHI', '110051', ':', 'SWIFT', 'LD}', 'BS4M', 'Registering', 'Aut', ':', 'SALOON', 'NO.OFCYL', ':', '4', 'Surajmal', 'Vihar', ':', '0', 'UNLADEN', 'WT', ':', '1050', 'os', ':', '01/2014', 'SEATINGC', ':', '5', 'ae', 'STANDING', 'C', ':', 'x', 'arene', 'CU.CAP', '>', '1248', '“=']\n",
            "txt_mudit_b11_1334.jpg ['.', 'GOVERNMENT', 'OF', 'HARYANA', \"'\", '©', 'CERTIFICATE', 'OF', 'REGISTRATION', 'OF', 'MOTOR', 'Form', 'No.', '23', 'RULE', '48', ';', 'S', 'VEHICLE', 'Registration', 'No.', 'HROGAH1768', \"Owner's\", 'Name', 'MR', 'HARISH', 'KUMAR', 'S/D/W', 'Of', 'SIO', 'SH.', 'KESHO', 'RAM', 'Full', 'Address', '14', 'NO.', '92/12,', 'DESHRAJ', 'COLONY,', 'GAL!', 'NO.', '7,PANIPAT,', '132103', 'Class', 'Of', 'Vehicle', 'L.M.V.', '(CAR)', 'Owner', 'Serial', '1', 'Type', 'of', 'Month', 'and', 'Year', 'of', 'Mfg.', '4/2016', 'Dealer', 'Name', 'and', 'Address', 'HARISONS', 'AUTOMOBILES,G.T.ROAD,PANIPAT', 'Make', 'MARUTI', 'SUZUKI', 'INDIA', 'LTD.', 'Color', 'of', 'Body', 'GRANITE', 'Meker', 'Classification', 'ERTIGA', 'GREEN', 'VXI', 'Chassis', 'No,', 'MA3ELMG1800384268', 'Engine', '\\\\K14BN', '7124699', 'G.V.', 'Weight', '1820', 'kgs', 'Horse', 'Power(B.H.P.)', '86', 'No.of', 'Cylinders', '4', 'Fuel', 'Used', 'PETROLICNG', 'Valid', 'From0&-May-2016', 'Valid', 'Upto07-Apr-2031']\n",
            "txt_mudit_b8_1_854.jpg ['OF', 'HARYANA', 'v', 'E', 'OF', 'REGISTRATION', 'Mi', 'MNO.', '23', 'RULE', '48)', 'Hi', 'RI', '10-M-565', '7.', '>', \"e's\", 'oe', 'ois,', 'wher', 'S/o', 'UN', 'ESE', 'KUMAR', 'JAIN.', 'oe', 'ot', 'ieee', ':', 'a', '|', '-', 'ois', 'x', 'ca', ',', 'x', 'ne', '7', '“i', 'ERNE', '=', 'NT', 'OF', 'HAR', 'SRE', 'OAR.', 'RINGENT', 'OF', 'HA).', 'diem', '§', 'eed', 'Be', 'ee', '_', 'MA3FKEB28001217¢6', '_', 'DI3A1120011', 'eee', ',', '‘(including', 'driver,', ')', '!', 'Diesel', '28.', '09.', '201113,', '1']\n",
            "txt_mudit_b11_480.jpg ['REGN_.', 'NO', ':', 'DL1Cus248', 'ECA', 'DS', '(469s', '4', 'me', 'MEARE', '2esosz', 'S', 't~_', '3”', '=', 'tee', 'Ll', 'coe', 'weer', 'cs', 'ce', \"TO'OTA\", 'M_OSALR', 'MOTOR', 'PVT', 'LT', '7+', 'CL.', 'Mioter', 'Car', 'ia', '>', ')', 'ws', 'we', 'SIRES', 'OMAR', 'GOW', 'ML', 'a', 'TaD', 'Cr', 'MANGE', 'Fem', '_', 'SOORESS', '8', '1s', 'NEAR', 'OCTAMPURA', 'METRO', 'STATION', '———', 'a', '——', '|', 'a', 'RALA', 'STHAL)', 'APPARTMENT', 'PUTAMIPURA', 'ow', 'Dem', 'OL', '‘100', 'WODEL', 'COROLLA', 'ALTIS', '1', '8G', '(C)', 's00Y', 'SEAN', 'NO', 'OF', 'CYL', '“', 'WHEEL', 'BASE', '-', 'co7700', 'MEG', 'OT', '01/2016', 'UNLADEN', 'WT', '-', 'GOT270', 'FUEL', 'PETROL', 'SEATING', 'C', '=', '6s', 'REGOUPTO', '22032031', 'STANOINGC', '—', 'sea']\n",
            "txt_mudit_b11_746.jpg ['REGN', '.NO', ':', 'DL3@4D0144', 'p', 'Soe”', 'rea', 'Siam', '|', 'Hberow', '*', 'CH', 'NO', ':', 'F)', '$00:', '36228', 'COLOUR', '=', 'M', 'GRE', 'T', 'ENO', '-', '~.', '231772454', 'CLASS', ':', 'LM.', 'NAME', 'RAKESH', 'XUMAP', 'Sil”', 'OF', '-', 'GANC', 'A', 'RAM', 'ADORFSS:', 'B-1676,BLOr8', 'NAG', '\\\\R', '.', '7', 'DE,', '*', 'aaa', '“seee', '’', 'MOLTL', '©', 'EECOSSTR.VC+h7R', '-.', 'Wee', 'ey', '6.20’', 'SALOON', 'WO.eF', 'CYL', '4', '“F1ELA', 'BASE:', '0', 'a', ';', 'MEG', 'OD', 'ora,', 'SEATINGC.', ':', 'FUEL', 'STANDING', 'C', ':', '1008', 'oe', 'er', 'ornare', 'cUuceP']\n",
            "txt_mudit_b8_1_554.jpg ['|', '.', '~', 'GOVERNMENT', 'OF', 'F', 'HARYAN', 'CERTIFICATE', 'OF', 'REGISTRATION.', 'SPY', '(FORM', 'NO.', '23', 'RULE', 'aoe', 'Registration', 'No.', 'al', 'Ri', 'Q-', 'P-0840.', 'Name', '&', 'Address', 'SANDEEP', 'LAKRA', 'ot:', 'oe', 'of', 'Regd.', 'Owner', 'S/o', 'MAHABIR', 'SINGH', 'LAKRA', 'a', '638/29,', 'SUBHASH', 'NAGAR', 'a', \"see's\", '-SONIPAT', 'Previous', 'Regn.', 'No.', 'N/A', 'Previous', 'Owner', 'N/A', '|', '.', 'Chasis', 'No.', '—', 'MALCG41GLAM255721', '‘AS', '¢', 'on', 'Engine', 'No.', '©', 'G4EB9M256677—', '-', 'Month/', 'Yrof', '—', '=', '20/01/2010', 'Z', 'an', 'Seating', 'Capacity', '.§', '—', '(inckiding', 'driver;', 'ey', 'Fucl', 'Used', 'Petrol.', '|', 'Yo”', 'ga']\n",
            "txt_mudit_b11_1339.jpg ['GOVERNMENT', 'OF', 'HARYANA', 'CERTIFICATE', 'OF', 'REGISTRATION', 'OF', 'MOTOR', 'Form', 'No.', '23', 'RULE', '42', 'VEHICLE', 'Registration', 'No.', 'HROGAES243', \"Owner's\", 'Name', 'WR', 'VINAY', 'KUMAR', 'HANDA', 'S/W', 'Of', '=P', 'ROP.', 'WS', 'SHIVA', 'WOOLEN', 'Full', 'Address', 'nus', 'TRIES,', 'H.NO.', '927,', 'SEC-12', 'PHASE-2,', 'HUDA,PANIPAT,', '132103', 'ee', 'Class', 'Of', 'Vehicle', 'L.M.V.', '(CAR)', 'Ovwmer', 'Serial', '1', '_', 'Type', 'of', 'BodyCAR', '(SEDAN)', 'Month', 'and', 'Year', 'of', 'Mig.', '112016', 'Dealer', 'Name', 'and', 'Address', 'HARISONS', 'AUTOMOBILES,G.T.ROAD,PANIPAT', 'Make', 'MARUTI', 'SUZUKI', 'INDIA', 'LTD.', 'Color', 'of', 'Body', 'WHITE', 'Maker', 'Classification', 'SWIFT', 'OZIRE', 'VXI', 'BS', 'IV', 'Horse', 'Power(B.H.P)', '76', 'Chassis', 'No.', 'MA3EJKD1$00683213', 'No.of', 'Cylinders', '4', 'Engine', '12MIN', '1630003', 'Fuel', 'Used', 'PETROL', 'G.V.', 'Weight', '1460', 'kgs', 'Valid', 'Frorm@6-Feb-2015', 'Valid', 'Upto', '28-Jan-2030', '7', '03.01.21', 'Cubic', 'C', 'Front', 'Ax', 'Registe', 'Front', 'Ax', 'Type', 'of', 'Front', 'As', 'Front', 'Az', 'HPAA', 'One', 'Tir']\n",
            "txt_mudit_b11_1529.jpg ['REGN', '.', 'NO', ':', 'DL8CU', '7889', 'OSNo', '=:', '01', 'REG.', 'DT:', '14/02/2013', 'MFGCD', ':', 'MUL', 'aie', 'NO', ':', 'MA3EUA61S00170565', 'COLOUR', ':', 'S.', 'WHITE', ':', 'FEDN4958005', 'CLASS', ':', 'LMV.', 'NAME', '>:', 'MAMTA', 'GOEL', 'SIWID', 'OF', ':', 'ANIL', 'KUMAR', 'GOEL', 'ADDRESS:', 'HOUSE', 'NO-51', 'SEC-9', 'RISH)', 'APPTT', 'ROHINE', 'NEW', 'DELHI', 'MODEL', ':', 'ALTO', '800LXIBSIV', 'BODY', '-', ':', 'SALOON', 'NO.OFCYL', ':', '3', 'WHEEL', 'BASE', ':', '0', 'UNLADEN', 'WT', ':', '720', 'MFG.DT.', '>', '4212012', 'SEATINGC', ':', '5', 'FUEL', ':', 'RCNGIP', 'STANDING', 'C', ':', 'REG.UPTO', ':', '13/02/2028', 'CU.CAP', '-', '796']\n",
            "txt_mudit_b11_1328.jpg ['¥', 'GOVERNMENT', 'OF', 'HARYANA', 'Transfer', 'of', 'Ownership', 'S', 'CERTIFICATE', 'OF', 'REGISTRATION', 'OF', 'MOTOR', 'Form', 'No.', '23', 'RULE', '48', 'VEHICLE', 'Registration', 'No.', 'HROGP', '5888', \"Owner's\", 'Name', 'SUBE', 'SINGH', 'S/D/W', 'Of', 'MAHA', 'SINGH', 'Full', 'Address', '\\\\iKAS', 'NAGAR,', 'DISTT,PANIPAT,', 'Class', 'Of', 'Vehicle', 'L.MLV.', '(CAR)', 'Owner', 'Serial', '2', 'Type', 'of', 'Body:', 'Month', 'and', 'Year', 'of', 'Mfg.', '9/2006', 'SALOON', 'Dealer', 'Name', 'and', 'Address', 'HARISONS', 'AUTOMOBILES,G.T.ROAD,PANIPAT', 'Make', 'MARUTIUDYOGLTD', 'Color', 'of', 'Body', 'S.SILVER', 'Horse', 'Power(B.H.P.)', '796', 'Maker', 'Classification', '“ALTO', 'LXI', 'B.S.', 'tli', 'Chassis', 'No.', 'MA3EYD81S00765439', 'No.of', 'Cylinders', '3', 'Engine', '8DN3321864', 'Fuel', 'Used', 'PETROL', 'G.V.', 'Weight', '1165', 'kgs', 'Valid', 'From07-Feb-2007', 'Valid', 'Upto', '05-Dec-2021', 'ORO']\n",
            "txt_mudit_b11_1364.jpg ['wm', 'Pee', '—', '™', '=', 'a', 'ty,', 'Si', '=', 'REGN.', 'NO', ':', 'DL9CAE2930\"™\"', ';', 'N', 'OT:', '13/09/2015', 'CHNO', '-', 'MA3FHEB1S00961906', 'OSNO', '=-01', 'ENO', '597151', 'COLOUR', 'GLISTENINGGREY', 'MER', 'MARUTI', 'SUZUKI', 'INDIA', 'LTD', 'VEH', 'CL', ':', 'Motor', 'Car', 'NAME', 'KARAN', 'KAPOOR', 'S/WID', 'OF', '-:', 'VISAY', 'KAPOOR', 'ADDRESS', '-', '195,', 'PKT-4,', 'ROHINI', 'EXTN_SEC-21_Ne', 'w', 'Delhi', 'Defhi-1', '10085', 'MARUT!', 'SWIFT', 'LDI', 'BSiV', 'BODY', 'RIGID', '(PASSENGER', 'CAR}', 'NOOFCYL', '=', '04', 'WHEEL', 'BASE', '-', '08/2015', 'UNLADEN', 'WT', ':', '_', 'OWESEL', 'SEATINGC', ':', '00']\n",
            "txt_mudit_b8_1_571.jpg ['th', '5h\"', 'Snail', 'A', ':', 'se', '<a', 'euanesth', 'et', 'ao\\\\', 're', 'bet)', 'eG.', 'Onnre', 'Vb', 'hdl', 'REGN', '.', 'NO', ':', 'DL3CAX6515', 'O', 'SNo', '>', 'Of', '-', 'REG.', 'DT:', '241042009', 'MFG', 'CD', ':', 'TATFAEL', 'CH.', 'NO', ':', '607146KRZ2W00622', 'COLOUR', ':', 'SCARLET', 'ENO', ':', '475IDTT4KRZPBER1S', 'CLASS', ':', 'LBMLV.', 'NAME', '-:', 'VIKAS', 'ENGINEERING', 'WORKS', 'SAWID', 'OF', ':', 'NA', 'ADDRESS:', 'R2-F/118/5,SHIV', 'PARK', 'VILLAGE', 'NANGLO!', 'JAT', 'DELHI', '440041', 'HP/LEASE:', 'MODEL', '-', 'INDIGOCSLS', '|', 'bet', 'be', 'BODY', ':', 'SALOON', 'NO.OF', 'CYL', ':', '4', 'WHEEL', 'BASE', ':', '0', 'UNLADEN', 'WT', ':', '1065', 'MFG.DT.', ':', '40#2008', 'SEATINGC', ':', '5', 'FUEL', ':', 'DIESEL', 'STANDING', 'C', ':', 'REG.UPTO', '=:', '23/04/2024', 'CU.CAP', '~~', '=:', '1405', 'TAXUPTO', '=:', 'OTT', 'os']\n",
            "txt_mudit_b8_1_546.jpg ['Name/Brand', 'of', 'Vehicle', \"Maker's\", 'Name', '.', 'Vehicle', 'Class', 'No.of', 'Cylinders', 'Unladen', 'Weight(kg)', 'Type', 'of', 'Body', 'H.P.A./', 'Lease', 'Agg.', \"Dealer's\", 'Name', 'Address', 'Registration', 'Valid', 'Upto', 'Road', 'Tax', 'Paid', 'Upto', 'Date', 'of', 'Issue', 'Specimen', 'Signature', '—__-,_', 'of', 'Regd.', 'Owner', '“}4\\\\A', '»', 'WAGNOR,LKi', 'E-I1}', 'MARUTE', 'UDYOG', 'LTD.', '_', 'LMV(MOTOR', 'CAR)', '4', 'Cubic', 'Capacity', 'f61CC', '825K', 'Colour', 'S', 'WHITE', 'SALOON', 'MAGMA', 'SHRACHI', 'FIN', 'JAGMOHAN', 'MOTORS', 'SONIPAT', '22/01/2023', 'One', 'Time', '10/03/2008', '(', '.', 'REGISTERING', 'AUTHOR', 'Ba', 'q', 'M.V.', 'GANAUR', 'ws']\n",
            "txt_mudit_b11_1369.jpg ['REGN.', 'NO', ':', 'DL5CJ', '7852', 'REG.', 'DT:', '17/05/2014', 'OSNO', ':01', 'CH.', 'NO', ':', 'MA3FJEB1S00528720', 'MFG', 'CD', ':', 'MUL', 'ENO', '_', ':', 'D13A2368228', 'COLOR', ':', 'A.WHITE', 'CLASS', ':L.M.V.', 'NAME', ':', 'MEGHNA', 'AGGARWAL', 'S/MWID', 'OF', ':', 'MR.RAJNEESH', 'AGGARWAL', 'ADDRESS', ':', 'H.NO-6/49/2', 'STREET', 'NO-2', 'KUNTI', 'MARG', 'VISHWAS', 'NAGAR', 'SHAHDARA', 'DELHI', '110032', 'MODEL', ':', 'SWIFT', 'DZIRE', 'VDI', 'BS4', 'BODY', ':', 'SALOON', 'NO.OFCYL', ':', '4', 'WHEEL', 'BASE', ':', '0', 'UNLADEN', 'WT', ':', '1060', 'MFG.', 'DT.', ':', '04/2014', 'SEATINGC', ':5', 'FUEL', ':', 'DIESEL', 'STANDING', 'C', ':', 'Signature', '‘', ':', 'REG', 'UPTO', '—', 'CU.CAP', '1248', 'Registering', 'Authority', ':', 'LONI', 'RD,NEZ', 'Td', 'esis', 'Ae']\n",
            "txt_mudit_b11_1524.jpg ['REGN', '.', 'NO:', 'DL5CJ', '5387', 'O', 'SNo', ':', 'OF', 'MFGCD', ':', 'MUL', 'COLOUR', ':', 'AWHITE', 'CLASS', ':', 'L.MY.', ':', 'HITESH', 'NAGAR', ':', 'SH.SUDHRAM', 'NAGAR', ':', 'A-4HB,A-1', 'BLOCK', 'MADHU', 'VIHAR', 'DELH)', 'Signature', ':', '31.05.', '2016']\n",
            "txt_mudit_b11_961.jpg ['a', 'REGN', '.', 'NO', ':', 'DL5CJ', '6088', 'REG.', 'DT:', '06/10/2013', 'MFG', 'GD', 'at', ':', 'M', 'CH.', 'NO', ':', 'MA3FHEB1S00520199', 'COLOUR', ':', 'G.GREY', 'ENO', '—:', 'D13A2235055', 'CLASS', ':', 'L.MV.', 'NAME', ':', 'RAJNISH', 'JAIN', 'S/WID', 'OF', ':', 'SH.SURESH', 'CHAND', 'JAIN', 'ADDRESS:', '1/5987,KABOOL', 'NAGAR', 'EAST', 'ROHTASH', 'NAGAR', 'DELHI', '110032', 'MODEL', '=:', 'SWIFT', 'VDI', 'BS4', 'M', 'Registering', 'Auth', ';', 'on', 'ALOON', 'NO.OFCYL', ':', '4', 'Loni', 'Road', ':', 'UNLADEN', 'WT', ':', '1060', 'é', '09/2013', 'SEATING', 'C:', ':', 'DIESEL', 'STANDING', 'C', ':', '05/10/2028', 'CU.CAP', ':', 'TAX', 'UPTO', ':', 'OTT']\n",
            "txt_mudit_b11_1536.jpg ['eo', 'ne', 'ae', 'REGN', '.', 'NO', ':', 'DL8CP', '6677', 'REG.', 'DT', '3070572010', 'RES', 'SD', ':', 'ut', 'CH.', 'NO', '=', 'MA3EDKD1S001', '75677', 'COLOUR', ':', ':', 'B.GHOCOLAT', 'ENO', ':', 'K12MN4034468', 'LM.', 'NAME', ':', 'SUNDER', 'LAL', 'DUA', 'RDURESS:', 'E-a01', 'BLOCREPRTA', 'ADDRESS:', 'd', 'SECTOR-16', 'ROHINI', 'DELHI', '110005']\n",
            "txt_mudit_b11_439.jpg ['NO', ':', 'DL9CX', '3096', 'REG.', 'BY:', '2es0Si2', 'MFG', 'GD', 'MUL', 'CH.', 'NO', ':', 'MA3EFJC1SO', '151460', 'COLOUR', ':', 'S.SILVER', 'ENO', '=:', 'M16AN2011764', 'CLASS', ':', 'L.MY.', 'NAME', ':', 'MANOJ', 'VERMA', 'SIWID', 'OF', ':', 'SANTOSH', 'KUMAR', 'ADDRESS:', 'RZF-14', 'WEST', 'SAGAR', 'PUR', 'NEW', 'DELHI!', '410046', '.', 'HP/LEASE:', 'HDFC', 'BANK', 'LTD', 'MODEL', '=:', 'SX4', 'VXI', 'BS3', 'M', 'BODY', ':', 'SALOON', 'NO.OF', 'CYL:', '4', 'WHEEL', 'BASE', ':', '0', 'UNLADEN', 'WT', ':', '1200', 'MFG.DT.', ':', '68/2009', 'SEATINGC', ':', '5', 'FUEL', ':', 'RCNG/P', 'STANDING', 'C', ':', 'REG.UPTO', '.:', '25/09/2024', 'CU.CAP', 'TAX', 'UPTO', '5', 'OTF', 'Registering', 'Authority', 'Palam']\n",
            "txt_mudit_b8_1_741.jpg ['REGN', '.', 'NO:', 'DL2CAF6866', 'REG.', 'DT:', '03/04/2006', 'CH.', 'NO', ':', 'MAZEEJ91S00127444', 'ENO', ':', 'G1', '6BBN521579', 'NAME', '-', 'HIMANSHU', 'SIWID', 'OF', ':', 'ADDRESS:', 'EAST', 'DELHI', 'HP/LEASE:', 'O', 'SNo', ':', 'MFG', 'CD', ':', 'MUL', 'COLOUR', '-:', 'SILKY', 'SILV', 'CLASS', ':', 'LV', 'OAD', 'JANGPURA', '-B', 'P', 'MKT', 'NIZAMUDDIN', ':', 'Lx!', 'BS3', 'MODEL', ':', 'AEN', 'OON', 'wo.', 'OF', 'CYL', 'BODY', 'WHEEL', 'BASE', ':', '0', '‘DT.', ':', 'g3v2006', 'ae', ';', 'PetCNG', '>', '929042021', '-', 'OTT', '23.09.2011', '18:51']\n",
            "txt_mudit_b11_1365.jpg ['REGN.', 'NO', ':', 'DL8CAH3172', 'REG.', 'DT', ':', '2411112014', 'OSNO', ':01', '\"=', 'CH.NO', '-', 'MA3ETDE1$00159552', 'MFGCD:', 'MUL', 'he', 'ENO', '-', 'K10BN7417497', 'COLOR', ':', 'PMA.WHITE', 'CLASS', ':L.M.V.', '2\\\\S>', 'NAME', ';', 'CHANDRA', 'BHUWAN', 'KUMAR', 'TAX', 'UPTO', ':', 'OFT', '\\\\)', 'SAWID', 'OF', ';', 'NARENDRA', 'PRASAD', 'ADDRESS', ':', 'H', 'NO.5-6', 'KH', 'NO.4821/22', 'BLOCK-B', 'oo', 'DHIRAJ', 'VIHAR', 'KARALA', 'DELHI', '110081', 'MODEL', '-', 'CELERIO', 'VXI', 'GREEN', 'M', 'BS4', 'BODY', '-', 'SALOON', 'NO.OF', 'CYL', ':', '3', 'WHEEL', 'BASE', ':', '0', 'UNLADEN', 'WT', ':', '915', 'MFG.DT.', '_:', '10/2014', 'SEATINGC', ':', '5', 'FUEL', '-', 'PetCNG', 'STANDING', 'C', ':', 'REG', 'UPTO;', '23/11/2029', 'CU.CAP', ':', '998', 'Signature', 'WAZIRPUR', '2', '8', 'HY', 'Her']\n",
            "txt_mudit_b11_1330.jpg ['GOVERNMENT', 'OF', 'HARYANs', 'ransfer', 'of', 'Ownership', 'CERTIFICATE', 'OF', 'REGISTRATION', 'OF', 'MOTOR', 'Form', 'No.', '23', 'RULE', '48', 'VEHICLE', 'Registration', 'No.', 'HRO6S', '8814', 'S%3', '1S', '00', 'WS', \"Owner's\", 'Name', 'RANBEER', 'ee', 'Of', 'MEHRU', 'y', 'Full', 'Address', 'vi', 'i', 'age', 'SHIMLA', 'GUJRAN,', 'TEH.', 'BAPOLI,PA', 'IPAT,', 'Class', 'Of', 'Vehicle', 'L.MLV.', 'Owner', 'Serial', '2', 'Type', 'of', 'BodyS600L', 'PULLMAN', 'Month', 'and', 'Year', 'of', 'Mfg.', '11/2008', 'Dealer', 'Name', 'and', 'Address', 'OTHERS,,', 'Make', '=', 'MARUTI', 'UDYOG', 'LTD', 'Qolor', 'of', 'Body', 'WHITE', 'j', 'Maker', 'Classification', 'ALTO', 'Horse', 'Power(B.H.P.)', '796', '|', 'Chassis', 'No.', 'MA3EYD81S01277497', 'No.of', 'Cylinders', '3', 'ngine', 'F8DN1266647', ':', 'Fuel', 'Used', 'PETROL', 'kgs', '°', 'Valid', 'From@3-Jan,2009', 'Valid', 'Upto', '22-Jan-2024']\n",
            "txt_mudit_b8_2_213.jpg []\n",
            "txt_mudit_b11_1535.jpg ['REGN', '.', 'NO', ':', 'DL5CJ', '4987', 'OSNo_', ':', '01', 'REG.', 'DT:', '12/04/2013', 'MFG', 'CD', ':', 'MUL', \"'\", 'CH.', 'NO', ':', 'MA3EWDE1S00526415', 'COLOUR', ':', 'S.WHITE', 'ENO', ':', 'K10BN7228183', 'CLASS', ':', 'L.MV.', 'NAME', ':', 'MANJULA', 'VERMA', 'S/WID', 'OF', ':', 'MR.SANJAY', 'VERMA', 'ADDRESS:', 'A-1/399,MADHU', 'VIHAR', 'RAJA', 'PUR!', 'DELHI', '110045', 'MODEL', ':', 'WAGON', 'R', 'GREEN', 'LX!', 'BS4', 'Registering', 'Authority', 'BODY', ':', 'SALOON', 'NO.OFCYL', ':', '4', 'Loni', 'Road', 'WHEEL', 'BASE:', '0', 'UNLADEN', 'WT', ':', '960', 'auillieanaraaicaierecs', 'MFG.DT.', ':', '02/2013', 'SEATINGC', ':', '§', 'aS)', 'FUEL', ':', 'PetCNG', 'STANDING', 'C', ':', 'REG.UPTO', '=:', '11/04/2028', 'CU.CAP', ':', '998', 'TAX', 'UPTO', 'OTT']\n",
            "txt_mudit_b11_1343.jpg ['CERTIFICATE', 'OF', 'REGISTRATION', 'OF', 'MOTOR', 'Form', 'No.', '23', 'RULE', '48', 'VEHICLE', 'i', 'Registration', 'No.', 'HROGAK2102', \"Owner's\", 'Name', 'MR.', 'JITENDER', 'S/O/W', 'Of', 'SH.', 'SATPAL', 'SINGH', '-', 'Full', 'Address', '4', 'No', '20,', 'BLOCK', 'NO.', '2,', 'ISRANA,PANIPAT,', '132103', 'E', 'GOVERNMENT', 'OF', 'HARYANA', 'Class', 'Of', 'Vehicle', 'L.M.V.', '(CAR)', 'Owner', 'Serial', '1', 'Type', 'of', 'BodySALOON', 'Month', 'and', 'Year', 'of', 'Mfg.', '9/2016', 'Dealer', 'Name', 'and', 'Address', 'HARISONS', 'AUTOMOBILES,G.T.ROAD,PANIPAT', 'Make', '=', 'MARUTI', 'SUZUKI', 'INDIA', 'LTD.', 'Color', 'of', 'Body', 'WHITE', 'Maker', 'Classification', 'SWIFT', 'VDI', 'BS', 'IV', 'Horse', 'Power(B.H.P.)', '66', 'Chassis', 'No.', 'MA3FHEB1S00B52684', 'No.of', 'Cylinders', '4', 'Engine', '113A2899227', 'Fuel', 'Used', 'DIESEL', 'G.V.', 'Weight', '1505', 'kgs', '_—', 'Valid', 'Frorm&-Nov-2016', 'Valid', 'Upto', '20-Oct-2031', 'ie', 'Fhe', 'DHS', 'ei)', '03.91.2017']\n",
            "txt_mudit_b11_1332.jpg ['GOVERNMENT', 'OF', 'HARYANA', 'CERTIFICATE', 'OF', 'REGISTRATION', 'OF', 'MOTOR', 'Form', 'No.', '23', 'RULE', '48', 'VEHICLE', 'Registration', 'No.', 'HR49D', '0002', \"Owner's\", 'Name', 'AMAR', 'NATH', 'S/D/W', 'Of', 'BARU', 'RAM', 'Full', 'Address', '\\\\4', 'NO.15,', 'AGGARSAIN,', 'COLONY,,PANIPAT,', 'll', 'Ciass', 'Of', 'Vehicle', 'L.M.V.', '(CAR)', 'Owner', 'Serial', '1', 'Type', 'of', 'BodyNOTCHBACK', 'Month', 'and', 'Year', 'of', 'Mfg.', '9/2013', 'Dealer', 'Name', 'and', 'Address', 'HARISONS', 'AUTOMOBILES,', ',', 'Make', 'MARUTI', 'SUZUKI', 'INDIA', 'LTD.', 'Color', 'of', 'Body', 'P', 'MA', 'WHITE', 'Maker', 'Classification', 'MARUTI', 'SWIFT', 'DZIRE', 'VDI', 'Horse', 'Power(B.H.P.)', '55.2', 'Chassis', 'No.', 'MA3FJEB1S00404062', 'No.of', 'Cylinders', '4', 'Engine', 'D13A2235550', 'Fue!', 'Used', 'DIESEL', 'G.V.', 'Weight', '1505', 'kgs', 'Valid', 'From13-Nov-2013', 'Valid', 'Upto', '08-Oct-2028']\n",
            "txt_mudit_b8_1_574.jpg ['ee', 'REGN', '.', 'NO', ':', 'DL3CAx6515', 'O', 'So', '-', 'REG.', 'DOT:', '2404/2009', 'MFGCD', '-', 'TATAEL', 'CH.', 'NO', '-', '607146KRZ7WO006277', 'COLOUR', '-:', '14.09.2011', '18:14']\n",
            "txt_mudit_b8_1_806.jpg ['Licence', 'No.', '34984', '11/01/2008', 'ie', 'DAVINDER', 'SINGH', 'siD/Wio', '+MOHINDER', 'SINGH', '|', 'Address', 'VPO.NANGAL', 'KHURD', 'SONIPAT', 'HARYANA', 'Date', 'of', 'Birth', '01/05/1972', 'Blood', 'GroupO+', 'Vehicle', 'Class', 'a', '.Cycle/Car/', 'a', 'Valid', 'Upto', '11/01/2013', '\\\\', 'a', '@Qe@au', 'A“', 'L&', 'A', 'A', 'ee', '=', '26008201']\n",
            "txt_mudit_b11_1539.jpg ['ac', '\"', '™%', 'rs', 'RNMENT', 'OF', 'HARYANA', 'j', 'ATE', 'OF', 'REGISTRATION', 'OF', 'MOTOR', 'Form', 'No.', '23', '&', '3', 'VEHICLE', '0AA1313', ';', 'ars', '3', 'RAJ', 'SINGHAL', 'x', '\\\\O', '8/18,', 'BRAHAM', 'COLONY', 'NR,', 'DEEPAK,', 'MANDIR,', 'SONIPAT,', 'M_V.', '(CAR)']\n",
            "txt_mudit_b8_1_855.jpg ['>', '”', 'a', 'ln', 'le', 'SWIFT', 'DZIRE', 'ZDI', 'fb', 'MARUTI', 'UDYOG', 'LT', 'D.', '-', '_LMV', '(MARUTIE', 'CAR)', '4', 'Cubic', 'Capacity', '§', '1298CC', '4405%K', 'Colour', 'PMA', 'W', 'HITE', 'NOTCHBACK', '_', 'eB', 'UNION', 'BANK', 'OF', 'INDIA', '“eS.', 'SAGMOHAN', '}', 'MOTORS', '—', 'aA', 'et.', 'Aid', 'Sane', '=']\n",
            "txt_mudit_b11_1355.jpg ['REGN', '.', 'NO:', 'DL3CBU4111', 'SNo', ':', 'Of', 'REG.', 'DT:', '03/08/2012', 'MFGCD', ':', 'MUL', 'CH.', 'NO', ':', 'MA3FDEB1£00381622', 'COLOUR', ':', 'S.', 'SILVER', 'ENO', ':', 'D13A1833010', 'CLASS', ':', 'LM.', 'NAME', ':', 'SAURABH', 'JAIN', 'S/WID', 'OF', ':', 'SUMAN', 'CHANDRA', 'JAIN', '.', 'ADDRESS:', 'FLAT', 'NO.', '22', 'RESIDENT', 'DOCTORS', 'HOSTEL', 'SAFDARJUNG', 'HOSPITAL', 'NEW', 'DELHI', '410029', 'MODEL', ':', 'RITZ', 'VDI', 'M', 'BS4', 'BODY', ':', 'Registering', 'Authori', 'Whee,', 'Base;', 'SALOON', 'NO.OF', 'CYL:', '4', '\"Sheikh', 'Sarat', 'mI', 'Mrcor', 'pee', 'LADEN', 'WT', ':', '1110', 'DIESEI.', ':', 'sec', '5', ':', 'ANDINGC', ':', ';', 'Oavoer2027', '—', 'CU.CAP', ':', '1248', '¥', '27', 'SPB', 'g', '>']\n",
            "txt_mudit_b8_1_573.jpg ['REGN', '.', 'NO', ':', 'DL3CAX6515', '>', 'Of', 'REG.', 'DT:', '24/04/2009', 'MFG', 'CD', ':', 'TATAEL', 'CH.', 'NO', ':', '607146KRZ2W00622', 'COLOUR', ':', 'SCARLET', 'ENO', '=:', '4735IDTI4KRZPBSSIS', 'CLASS', ':', 'LMLV.', 'NAME', ':', 'VIKAS', 'ENGINEERING', 'WORKS', 'SAWID', 'OF', ':', 'NA', 'ADDRESS:', 'RZ-F/118/5,SHIV', 'PARK', 'VILLAGE', 'NANGLO?!', 'JAT', 'DELHI', 'HP/LEASE:', 'MODEL', '«-.', 'INDIGOCSLS', '-', 'SALOON', 'BODY', 'WHEEL', 'BASE:', '0', 'MFG.DT.', '-', '4042008', 'FUEL', ':', 'DIESEL', 'REG.UPTO', '=:', '23/04/202', 'TAX', 'UPTO', ':', 'OTT', 'ee', '14.09.2011', '18:14']\n",
            "txt_mudit_b11_12.jpg ['REGN', 'DT:', '21/07/2015', 'CH', 'NO', 'OSNO', '01', 'COLOUR', 'GLISTENINGGREY', 'MFR', 'MODEL', 'BODY', 'WHEEL', 'BASE', ':', 'MFG', 'DT', 'FUEL', 'REGD', 'UPTO', 'TAX', 'UPTO', 'REGN.', 'NO', ':', 'DL2CAT9109', '\"=\"', ':', 'MA3ETDE1$00218363', 'ENO', '_', ':', '7567094', ':', 'MARUTI', 'SUZUKI', 'INDIA', 'LTD', 'VEH', 'CL', ':', 'Motor', 'Car', 'NAME', 'ANOOP', 'SURESH', 'DHAWALE', 'S)WID', 'OF', ':', 'SURESH', 'HARISHCHANDRA', 'DHAWALE', 'ADDRESS', ':', '72', 'SHRI', 'BADRINATH', 'APPTT,PLOT', 'NO-18', 'SEC4', 'DWARKA', 'NEW', 'DELHI,,South', 'West,', 'Dethi-110075', 'MARUTI', 'CELERIO', 'VXI', 'GREEN', 'RIGID', '(PASSENGER', 'CAR)', '002425', 'NOOFCYL', ':', '03', '07/2015', 'UNLADEN', 'WT', ':', '000915', 'PETROLICNG', 'SEATINGC', '20/07/2030', 'STANDING', 'C', 'OTT', 'Cu', 'CAP']\n",
            "txt_mudit_b11_1534.jpg ['REGN.', 'NO', ':', 'DL6CN', '3195', '9', '“{™PTMP', 'REG.', 'DT:', '30/11/2013', 'OSNO', ':01', 'CH.', 'NO', ':', 'MA3EWDE1S00637165', 'MFG', 'CD:', 'MUL', 'ENO', ':', 'Ki0BN45390508', 'COLOR', ':', 'G', 'GREY', 'CLASS', ':L.M.V.', ':', 'KARISHMA', 'DHAWAN', ':', 'VINEET', 'DHAWAN', '193', 'POCKET-1', 'SECTOR-23', 'ROHINI', 'DELHI', '110085', 'MODEL', ':', 'WAGON', 'R', 'GREEN', 'LXI', 'M', 'BS4', 'BODY', ':', 'SALOON', 'NO.OFCYL', ':3', 'WHEEL', 'BASE', ':', '0', 'UNLADEN', 'WT', ':', '960', 'MFG.', 'DT.', ':', '10/2013', 'SEATINGC', ':', '5', 'FUEL', ':', 'PetCNG', 'STANDING', 'C', ':', 'REG', 'UPTO', '-:', '29/11/2028', 'CU.CAP', ':', '998', 'TAX', 'UPTO:', 'OTT', 'OSKNED', 'ES']\n",
            "txt_mudit_b8_1_807.jpg ['Name', '&', 'Address', 'of', 'Regd.', 'Owner', 'Previous', 'Regn.', 'No.', 'Previous', 'Owner', 'Chasis', 'No.', 'Engine', 'No.', 'Month/', 'Yr', 'of', 'Seating', 'Capacity', 'Fuel', 'Used', 'GOVERNMENT', 'OF', 'HARYANA', 'CERTIFICATE', 'OF', 'REGISTRATION', '(FORM', 'NO.', '23', 'RULE', '48)', 'HR10-P-5470', 'DAVENDER', 'SINGH', 'S/o', 'MAHENDER', 'SINGH', 'VPO.', 'NANGAL', 'KHURD,', 'DISTT.', 'SONIPAT', 'N/A', 'N/A', 'MALCM41VR9M079263*L', 'D4FA9U817848', '31/12/2009', '5', '(including', 'driver)', 'Diesel', '7', 'op', '‘', 'i', '+,', '<i', 'aes', 'ere', 'a', 'i', 'a', 'pies', 'a', '<n', 'ait', 'ea)', '/', 'NG', '(KS)', 'e', 'Oia', '||', 'A', 'J.', '#', '.*', '—', 'a']\n",
            "txt_mudit_b11_11599.jpg ['_', 'REGN.NO:', 'DL9CAC6215', 'OSNo_', ':', '01', 'REG.', 'DT:', '24/12/2012', 'MFG', 'CD', ':', 'MUL', 'CH.', 'NO', ':', 'MA3FHEB1S00358580', 'COLOUR', ':', 'PMAWHITE', 'ENO,', '*', 'CLASS', ':', 'L.MV.', '5', 'SRISHTI', 'NAYAR', 'SIWID', 'OF', ':', 'SANJIV', 'NAYAR', 'ADDRESS:', '80', 'C', 'BLOCK', 'NEELAMBER', 'APTS', 'RANI', 'BAGH', 'NEW', 'DELH!', ':', 'SWIFT', 'VDI', 'BS4', 'M', 'SAL', 'me:', '‘', ':', '‘r204']\n",
            "txt_mudit_b8_1_555.jpg ['me/Brand', 'of', 'Vehicle', 'aker’s', 'Name', '.', 'Vehicle', 'Class', 'No.of', 'Cylinders', '~', '~“Unladen', 'Weight', 'kg)', '1', 'Type', 'of', 'Body', '’', 'H-P.A//', 'Lease', 'Agg.', \"Dealer's\", 'Name', 'x', 'aimen', '——-', 'Registration', 'Valid', 'Upto.', 'ih', 'Road', 'Tax', 'Paid', 'U', 'pto', 'Date', 'of', 'Issue', 'bs', 'of', 'Reg', '|', 'L039Ic', 'Colour', 'Specime', 'n', 'Signature', '.', 'Owner', 'a', '—T', 'a,', 'ACCENT-MT-GLE', '.', 'HYUNDAI', 'MOTORS', 'INDIA', 'LTD.', 'LMV', '(MOTOR', 'CAR)', '4', 'Cubic', 'C', 'apacity', '1495CC', 't', 'GT', 'C', 'WHITE', 'SEDAN', 'SBOP', 'MALWA', 'AUTO', 'SALES', ',', 'KUNDLI', ',', '19/01/2025', ':', 'One', 'Time', '03/03/2010', 'ie', 'y']\n"
          ],
          "name": "stdout"
        }
      ]
    }
  ]
}